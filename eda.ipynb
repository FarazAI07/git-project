{
 "cells": [
  {
   "cell_type": "code",
   "execution_count": 1,
   "id": "0684d247-362e-4734-8ae1-99ae4e1df03c",
   "metadata": {},
   "outputs": [
    {
     "name": "stdout",
     "output_type": "stream",
     "text": [
      "Exploratory Data Analysis Started\n"
     ]
    }
   ],
   "source": [
    "print('Exploratory Data Analysis Started')"
   ]
  },
  {
   "cell_type": "code",
   "execution_count": null,
   "id": "1f9736b7-9f2c-4224-94f4-a236263985de",
   "metadata": {},
   "outputs": [],
   "source": []
  }
 ],
 "metadata": {
  "kernelspec": {
   "display_name": "Python 3 (ipykernel)",
   "language": "python",
   "name": "python3"
  },
  "language_info": {
   "codemirror_mode": {
    "name": "ipython",
    "version": 3
   },
   "file_extension": ".py",
   "mimetype": "text/x-python",
   "name": "python",
   "nbconvert_exporter": "python",
   "pygments_lexer": "ipython3",
   "version": "3.12.3"
  }
 },
 "nbformat": 4,
 "nbformat_minor": 5
}
